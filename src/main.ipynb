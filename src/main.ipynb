{
 "cells": [
  {
   "cell_type": "code",
   "execution_count": 1,
   "metadata": {},
   "outputs": [],
   "source": [
    "import numpy as np\n",
    "import pandas as pd\n",
    "import matplotlib.pyplot as plt\n",
    "\n",
    "from itertools import islice, cycle"
   ]
  },
  {
   "cell_type": "code",
   "execution_count": 2,
   "metadata": {},
   "outputs": [],
   "source": [
    "data_path = './data/'\n",
    "\n",
    "quarterly_df = pd.read_csv(f'{data_path}spotify-quarterly.csv')\n",
    "apk_df = pd.read_csv(f'{data_path}apk.csv', parse_dates=['Date'])"
   ]
  },
  {
   "cell_type": "markdown",
   "metadata": {},
   "source": [
    "# Quarterly APK downloads"
   ]
  },
  {
   "cell_type": "markdown",
   "metadata": {},
   "source": [
    "In order to compare apk downloads with financial metrics, it is necessary to aggregate data by quarter."
   ]
  },
  {
   "cell_type": "code",
   "execution_count": 3,
   "metadata": {},
   "outputs": [],
   "source": [
    "apk_df.set_index('Date', inplace=True)\n",
    "apk_quarterly_df = apk_df['Downloads'].resample('QE').sum().to_frame()\n",
    "apk_df.reset_index(inplace=True)\n",
    "apk_quarterly_df.reset_index(inplace=True)"
   ]
  },
  {
   "cell_type": "code",
   "execution_count": 4,
   "metadata": {},
   "outputs": [],
   "source": [
    "apk_quarterly_df['Year'] = apk_quarterly_df['Date'].dt.year \n",
    "apk_quarterly_df['Quarter'] = apk_quarterly_df['Date'].dt.quarter \n",
    "apk_quarterly_df['Date'] = apk_quarterly_df['Year'].astype(str) + ' – Q' + apk_quarterly_df['Quarter'].astype(str)"
   ]
  },
  {
   "cell_type": "markdown",
   "metadata": {},
   "source": [
    "# Quarterly financial data"
   ]
  },
  {
   "cell_type": "markdown",
   "metadata": {},
   "source": [
    "We create a ```Date``` field to store in a single value the information about year and quarter."
   ]
  },
  {
   "cell_type": "code",
   "execution_count": 5,
   "metadata": {},
   "outputs": [],
   "source": [
    "quarterly_df['Date'] = quarterly_df['Year'].astype(str) + ' – Q' + quarterly_df['Quarter'].astype(str)\n",
    "quarterly_df = quarterly_df.sort_values('Date')"
   ]
  },
  {
   "cell_type": "code",
   "execution_count": 6,
   "metadata": {},
   "outputs": [],
   "source": [
    "# for metric in quarterly_df.columns.drop(['Date', 'Year', 'Quarter']):\n",
    "#     plt.figure()\n",
    "#     plt.bar(quarterly_df['Date'], quarterly_df[metric])\n",
    "#     plt.title(metric)\n",
    "#     plt.xticks(rotation=90)\n",
    "#     plt.tight_layout()\n",
    "#     plt.show()"
   ]
  },
  {
   "cell_type": "code",
   "execution_count": 7,
   "metadata": {},
   "outputs": [],
   "source": [
    "def generate_colors(n):\n",
    "    color_cycle = plt.rcParams['axes.prop_cycle'].by_key()['color']\n",
    "    n = min(n, len(color_cycle))\n",
    "\n",
    "    return color_cycle[:n]"
   ]
  },
  {
   "cell_type": "code",
   "execution_count": 8,
   "metadata": {},
   "outputs": [
    {
     "data": {
      "text/plain": [
       "['#1f77b4', '#ff7f0e', '#2ca02c']"
      ]
     },
     "execution_count": 8,
     "metadata": {},
     "output_type": "execute_result"
    }
   ],
   "source": [
    "events = {'Event': ['Harry Style\\'s Fine Line',\n",
    "                    'The Weeknd\\'s After Hours',\n",
    "                    'Taylor Swift\\'s Fearless'],\n",
    "          'Date': ['2019-12-13',\n",
    "                   '2020-03-20',\n",
    "                   '2021-04-09']}\n",
    "events_df = pd.DataFrame(events)\n",
    "\n",
    "generate_colors(len(events_df))"
   ]
  },
  {
   "cell_type": "code",
   "execution_count": 9,
   "metadata": {},
   "outputs": [],
   "source": [
    "# events = {'Event': ['Harry Style\\'s Fine Line',\n",
    "#                     'The Weeknd\\'s After Hours',\n",
    "#                     'Taylor Swift\\'s Fearless'],\n",
    "#           'Date': ['2019-12-13',\n",
    "#                    '2020-03-20',\n",
    "#                    '2021-04-09']}\n",
    "\n",
    "# events_df = pd.DataFrame(events)\n",
    "# events_df['Date'] = pd.to_datetime(events_df['Date'])\n",
    "\n",
    "# ymin = apk_df['Downloads'].min()\n",
    "# ymax = apk_df['Downloads'].max()\n",
    "\n",
    "# colors = generate_colors(len(events_df) + 1)[1:]\n",
    "\n",
    "# plt.figure(figsize=(10, 6))\n",
    "# for index, row in events_df.iterrows():\n",
    "#     plt.vlines(x=row['Date'], ymin=ymin, ymax=ymax, color=colors[index], linestyles='--', label=row['Event'])\n",
    "\n",
    "# plt.scatter(apk_df['Date'], apk_df['Downloads'], marker='o', s=5)\n",
    "# plt.title('APK downloads')\n",
    "# plt.xlabel('Release date')\n",
    "# plt.ylabel('# of downloads')\n",
    "# plt.legend()\n",
    "# plt.show()"
   ]
  },
  {
   "cell_type": "markdown",
   "metadata": {},
   "source": [
    "# Correlation between Premium MAUs and APK downloads"
   ]
  },
  {
   "cell_type": "markdown",
   "metadata": {},
   "source": [
    "It is first necessary to truncate the two series, in order to compare them in the same time interval (2017Q3 – 2023Q4)."
   ]
  },
  {
   "cell_type": "code",
   "execution_count": 12,
   "metadata": {},
   "outputs": [],
   "source": [
    "start_date = max(quarterly_df['Date'].min(), apk_quarterly_df['Date'].min())\n",
    "end_date = min(quarterly_df['Date'].max(), apk_quarterly_df['Date'].max())\n",
    "\n",
    "trunc_quarterly_df = quarterly_df[\n",
    "    (quarterly_df['Date'] >= start_date) &\n",
    "    (quarterly_df['Date'] <= end_date)\n",
    "]\n",
    "\n",
    "trunc_apk_quarterly_df = apk_quarterly_df[\n",
    "    (apk_quarterly_df['Date'] >= start_date) &\n",
    "    (apk_quarterly_df['Date'] <= end_date)\n",
    "]"
   ]
  },
  {
   "cell_type": "code",
   "execution_count": 11,
   "metadata": {},
   "outputs": [
    {
     "data": {
      "image/png": "[encoded data removed]",
      "text/plain": [
       "<Figure size 640x480 with 1 Axes>"
      ]
     },
     "metadata": {},
     "output_type": "display_data"
    },
    {
     "data": {
      "image/png": "[encoded data removed]",
      "text/plain": [
       "<Figure size 640x480 with 1 Axes>"
      ]
     },
     "metadata": {},
     "output_type": "display_data"
    }
   ],
   "source": [
    "plt.figure()\n",
    "plt.bar(trunc_quarterly_df['Date'], trunc_quarterly_df['Premium MAUs'])\n",
    "plt.xticks(rotation=90)\n",
    "plt.show()\n",
    "\n",
    "plt.figure()\n",
    "plt.bar(trunc_apk_quarterly_df['Date'], trunc_apk_quarterly_df['Downloads'])\n",
    "plt.xticks(rotation=90)\n",
    "plt.show()"
   ]
  },
  {
   "cell_type": "code",
   "execution_count": 14,
   "metadata": {},
   "outputs": [
    {
     "name": "stdout",
     "output_type": "stream",
     "text": [
      "0.6391780053158126\n"
     ]
    }
   ],
   "source": [
    "pearson_corr = trunc_quarterly_df['Premium MAUs'].corr(trunc_apk_quarterly_df['Downloads'], method='pearson')\n",
    "print(pearson_corr)"
   ]
  }
 ],
 "metadata": {
  "kernelspec": {
   "display_name": "Python 3",
   "language": "python",
   "name": "python3"
  },
  "language_info": {
   "codemirror_mode": {
    "name": "ipython",
    "version": 3
   },
   "file_extension": ".py",
   "mimetype": "text/x-python",
   "name": "python",
   "nbconvert_exporter": "python",
   "pygments_lexer": "ipython3",
   "version": "3.9.6"
  }
 },
 "nbformat": 4,
 "nbformat_minor": 2
}
